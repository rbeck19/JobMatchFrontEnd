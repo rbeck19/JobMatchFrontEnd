{
  "nbformat": 4,
  "nbformat_minor": 0,
  "metadata": {
    "colab": {
      "provenance": []
    },
    "kernelspec": {
      "name": "python3",
      "display_name": "Python 3"
    },
    "language_info": {
      "name": "python"
    }
  },
  "cells": [
    {
      "cell_type": "code",
      "execution_count": 2,
      "metadata": {
        "id": "9Us0E8WpoHDg"
      },
      "outputs": [],
      "source": [
        "import requests\n",
        "from bs4 import BeautifulSoup"
      ]
    },
    {
      "cell_type": "code",
      "source": [
        "def extract_job_details(url):\n",
        "    try:\n",
        "        response = requests.get(url)\n",
        "        response.raise_for_status()\n",
        "\n",
        "        soup = BeautifulSoup(response.content, 'html.parser')\n",
        "\n",
        "        job_details = soup.find('meta', attrs={'property': 'og:description'})\n",
        "        if job_details:\n",
        "            return job_details['content']\n",
        "        else:\n",
        "            return \"Job details not found\"\n",
        "\n",
        "    except requests.RequestException as e:\n",
        "        return f\"An error occurred: {e}\"\n"
      ],
      "metadata": {
        "id": "MWpXG3dqoHYs"
      },
      "execution_count": 20,
      "outputs": []
    },
    {
      "cell_type": "code",
      "source": [
        "# Amazon Sample Job 1\n",
        "url = \"https://www.amazon.jobs/en/jobs/2515896/content-developer-device-digital-and-alexa-support-d2as\"\n",
        "print(extract_job_details(url))"
      ],
      "metadata": {
        "colab": {
          "base_uri": "https://localhost:8080/"
        },
        "id": "Ka55HtcfoKLL",
        "outputId": "629d74f9-8bde-4e29-c999-394181cbc87e"
      },
      "execution_count": 21,
      "outputs": [
        {
          "output_type": "stream",
          "name": "stdout",
          "text": [
            "Are you a Content Developer or Technical Writer with a passion for customers? Do you have the drive to deliver multiple projects on time, every time, with deliverables that exceed audience expectations? Do you thrive in a fast-moving culture where customer obsession and the ability to think on your feet are highly valued?Amazon revolutionized customer service, now we are changing what customers expect from technical support. We're responsible for the Customer Service operations and solutions for all Amazon Devices and Digital properties, from Kindle, Fire TV and Echo, to Prime Video and Amazon Music. In this role you will scope, structure and develop internal and public-facing content describing key features and functionality of multiple Amazon service offerings. Your content will viewed and referenced by millions of customers, accessible across a variety of platforms, and localized into multiple languages.To excel in this position, you will be comfortable in a fast-paced, high-energy environment. You must be used to dealing with tight deadlines and internal stakeholders and have a proactive approach to problem solving. You will have experience digging into data to discover pain points and developing content strategy that solves those problems. And, most importantly, you have deep expertise in help content, including writing, production, and strategy, with an affinity for gaining exposure to new technologies and revolutionary consumer electronic devices.Key job responsibilities- Create concise and direct instructions for customers and customer support associates to solve problems- Build and leverage strong relationships with multiple stakeholders to deliver complex, global projects- Drive content projects for their entire lifecycle from planning through post-launch measurement- Execute strategies to improve content quality, maintainability, and usability- Identify, promote, and implement strategies to improve content development workflow and team efficiency- Continuously interpret metrics to assess content and improve our customer experienceWe are open to hiring candidates to work out of one of the following locations:Austin, TX, USA | Seattle, WA, USA\n"
          ]
        }
      ]
    },
    {
      "cell_type": "code",
      "source": [
        "# Amazon Sample Job 2\n",
        "url = \"https://www.amazon.jobs/en/jobs/2515675/device-associate\"\n",
        "print(extract_job_details(url))"
      ],
      "metadata": {
        "colab": {
          "base_uri": "https://localhost:8080/"
        },
        "id": "wpQO5Licpzk8",
        "outputId": "77a89fea-689d-4cc0-a9fc-de76ec12a2a7"
      },
      "execution_count": 22,
      "outputs": [
        {
          "output_type": "stream",
          "name": "stdout",
          "text": [
            "A device associate’s primary responsibility is to execute test case instructions and report discrepancies. He/she is also responsible for successful and on time delivery of results.  Role &amp; Responsibility   - Execute test cases prepared for testing software builds - Perform test case execution and report bugs accurately - Understand testing procedures and guidelines for new builds/releases - Perform regression and repetitive testing exercises to qualify builds without compromising on quality - Use software tools for data capture on a daily basis - Be comfortable with capturing results, communicating and escalating failures and providing individual status reports - Raise all failures/doubts related to the execution of test cases in the clarification portal and closing the same as per the SLAs We are open to hiring candidates to work out of one of the following locations:Chennai, TN, IND\n"
          ]
        }
      ]
    },
    {
      "cell_type": "code",
      "source": [
        "# Google Sample Job 1: TODO: compatible with all websites\n",
        "url = \"https://www.google.com/about/careers/applications/jobs/results/110720748940600006-staff-software-engineer-large-language-models\"\n",
        "print(extract_job_details(url))"
      ],
      "metadata": {
        "colab": {
          "base_uri": "https://localhost:8080/"
        },
        "id": "joka1LcDq2Gk",
        "outputId": "5edb8d97-0d1a-41c5-ffae-e907e18354bf"
      },
      "execution_count": 23,
      "outputs": [
        {
          "output_type": "stream",
          "name": "stdout",
          "text": [
            "Job details not found\n"
          ]
        }
      ]
    }
  ]
}